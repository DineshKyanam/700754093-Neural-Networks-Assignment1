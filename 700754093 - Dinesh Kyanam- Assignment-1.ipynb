{
 "cells": [
  {
   "cell_type": "code",
   "execution_count": 18,
   "id": "8b9dfc47",
   "metadata": {},
   "outputs": [
    {
     "name": "stdout",
     "output_type": "stream",
     "text": [
      "Enter Your String:python\n",
      "htyp\n"
     ]
    }
   ],
   "source": [
    "#– Input the string “Python” as a list of characters from console, \n",
    "#delete at least 2 characters, reverse theresultantstring and print it\n",
    "mystring= input(\"Enter Your String:\")\n",
    "newstring= mystring[:-2]\n",
    "reverse=newstring[::-1]\n",
    "print(reverse)"
   ]
  },
  {
   "cell_type": "code",
   "execution_count": 19,
   "id": "1eb36858",
   "metadata": {
    "scrolled": true
   },
   "outputs": [
    {
     "name": "stdout",
     "output_type": "stream",
     "text": [
      "enter the num 1:8\n",
      "enter the num 2:7\n",
      "15.0\n",
      "1.0\n",
      "56.0\n",
      "1.1428571428571428\n"
     ]
    }
   ],
   "source": [
    "#– Take two numbers from user and perform at least 4 arithmetic operations on them.\n",
    "num1=float(input(\"enter the num 1:\"))\n",
    "num2=float(input(\"enter the num 2:\"))\n",
    "Add=num1+num2\n",
    "Sub=num1-num2\n",
    "mul=num1*num2\n",
    "div=num1/num2\n",
    "print(Add)\n",
    "print(Sub)\n",
    "print(mul)\n",
    "print(div)\n"
   ]
  },
  {
   "cell_type": "code",
   "execution_count": 11,
   "id": "7aa4f94f",
   "metadata": {
    "scrolled": true
   },
   "outputs": [
    {
     "name": "stdout",
     "output_type": "stream",
     "text": [
      "enter a string:I love playing with python\n",
      "I love playing with pythons\n"
     ]
    }
   ],
   "source": [
    "#Write a program that accepts a sentence and replace each occurrence of ‘python’ with ‘pythons’\n",
    "Mystring=input(\"enter a string:\")\n",
    "Newstring=Mystring.replace('python','pythons')\n",
    "print(Newstring)"
   ]
  },
  {
   "cell_type": "code",
   "execution_count": 17,
   "id": "67d91285",
   "metadata": {},
   "outputs": [
    {
     "name": "stdout",
     "output_type": "stream",
     "text": [
      "Enter your Marks 99\n",
      "A grade\n"
     ]
    }
   ],
   "source": [
    "#. Use the if statement conditions to write a program to print the letter grade based on an input class score. Use the \n",
    "#grading scheme we are using in this class\n",
    "Marks=float(input(\"Enter your Marks \"))\n",
    "if Marks<60:\n",
    "            print(\"F grade\")\n",
    "elif Marks<70:\n",
    "            print(\"D grade\")\n",
    "elif Marks<80:\n",
    "            print(\"C grade\")\n",
    "elif Marks<90:\n",
    "            print(\"B grade\")\n",
    "else:\n",
    "            print(\"A grade\")"
   ]
  },
  {
   "cell_type": "code",
   "execution_count": null,
   "id": "2821b179",
   "metadata": {},
   "outputs": [],
   "source": []
  }
 ],
 "metadata": {
  "kernelspec": {
   "display_name": "Python 3 (ipykernel)",
   "language": "python",
   "name": "python3"
  },
  "language_info": {
   "codemirror_mode": {
    "name": "ipython",
    "version": 3
   },
   "file_extension": ".py",
   "mimetype": "text/x-python",
   "name": "python",
   "nbconvert_exporter": "python",
   "pygments_lexer": "ipython3",
   "version": "3.11.5"
  }
 },
 "nbformat": 4,
 "nbformat_minor": 5
}
